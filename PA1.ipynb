{
 "cells": [
  {
   "cell_type": "markdown",
   "id": "5723ef6a-0a62-47ce-8f04-13ff9d7d22d4",
   "metadata": {},
   "source": [
    "## Alphabet soup problem"
   ]
  },
  {
   "cell_type": "code",
   "execution_count": 2,
   "id": "342c030d-3418-4948-adb8-57884e6e6caa",
   "metadata": {},
   "outputs": [
    {
     "name": "stdin",
     "output_type": "stream",
     "text": [
      "Enter a string:  hello\n"
     ]
    },
    {
     "name": "stdout",
     "output_type": "stream",
     "text": [
      "Alphabetically sorted string: ehllo\n"
     ]
    }
   ],
   "source": [
    "# Create a function\n",
    "def alphabet_soup():\n",
    "    # Input of the user\n",
    "    s = input(\"Enter a string: \")\n",
    "    # Sort the inputted string in alphabetical order\n",
    "    sorted_string = ''.join(sorted(s))\n",
    "    # Display the string\n",
    "    print(\"Alphabetically sorted string:\", sorted_string)\n",
    "\n",
    "# Call the function\n",
    "alphabet_soup()"
   ]
  },
  {
   "cell_type": "markdown",
   "id": "6927b9fe-f957-4ad5-a7c6-2696ff5a89c5",
   "metadata": {},
   "source": [
    "## Emoticon problem"
   ]
  },
  {
   "cell_type": "code",
   "execution_count": 8,
   "id": "0a4d32b3-51c3-4655-b9b7-359514ebe0a7",
   "metadata": {},
   "outputs": [
    {
     "name": "stdin",
     "output_type": "stream",
     "text": [
      "Enter a sentence:  I am sad right now, I will be mad later, and I will smile and grin right after.\n"
     ]
    },
    {
     "name": "stdout",
     "output_type": "stream",
     "text": [
      "Emotified sentence: I am :'( right now, I will be >:( later, and I will :) and :D right after.\n"
     ]
    }
   ],
   "source": [
    "# Import re library to perform a search-and-replace operation using regular expressions.\n",
    "import re\n",
    "\n",
    "def emotify():\n",
    "    # Dictionary to pair words to their corresponding emoticons\n",
    "    emoticons = {\n",
    "        \"smile\": \":)\",\n",
    "        \"grin\": \":D\",\n",
    "        \"sad\": \":'(\",\n",
    "        \"mad\": \">:(\"\n",
    "    }\n",
    "\n",
    "    # Ask the user to input a sentence\n",
    "    sentence = input(\"Enter a sentence: \")\n",
    "\n",
    "    # Function to replace while preserving case\n",
    "    def replace_word(match):\n",
    "        word = match.group(0)\n",
    "        return emoticons[word.lower()]\n",
    "\n",
    "    # Use regular expressions to replace words with emoticons\n",
    "    for word in emoticons:\n",
    "        sentence = re.sub(rf'\\b{word}\\b', replace_word, sentence, flags=re.IGNORECASE)\n",
    "\n",
    "    # Print the modified sentence\n",
    "    print(\"Emotified sentence:\", sentence)\n",
    "\n",
    "# Call the function\n",
    "emotify()\n"
   ]
  },
  {
   "cell_type": "markdown",
   "id": "36222463-f8c8-4448-bd20-85a8209b35d8",
   "metadata": {},
   "source": [
    "## Unpacking list problem"
   ]
  },
  {
   "cell_type": "code",
   "execution_count": 10,
   "id": "db6e8fd5-a695-44ed-8872-e9b0002e2346",
   "metadata": {},
   "outputs": [
    {
     "name": "stdout",
     "output_type": "stream",
     "text": [
      "first: 1\n",
      "middle: [2, 3, 4, 5]\n",
      "last: 6\n"
     ]
    }
   ],
   "source": [
    "def unpack_list(lst):\n",
    "    # Unpack the list into first, middle, and last\n",
    "    first, *middle, last = lst\n",
    "    \n",
    "    # Print the results\n",
    "    print(\"first:\", first)\n",
    "    print(\"middle:\", middle)\n",
    "    print(\"last:\", last)\n",
    "\n",
    "# Output\n",
    "lst = [1, 2, 3, 4, 5, 6]\n",
    "unpack_list(lst)"
   ]
  },
  {
   "cell_type": "code",
   "execution_count": null,
   "id": "f5380b8a-bef3-4313-adfd-782ca70ec4cc",
   "metadata": {},
   "outputs": [],
   "source": []
  }
 ],
 "metadata": {
  "kernelspec": {
   "display_name": "Python 3 (ipykernel)",
   "language": "python",
   "name": "python3"
  },
  "language_info": {
   "codemirror_mode": {
    "name": "ipython",
    "version": 3
   },
   "file_extension": ".py",
   "mimetype": "text/x-python",
   "name": "python",
   "nbconvert_exporter": "python",
   "pygments_lexer": "ipython3",
   "version": "3.12.4"
  }
 },
 "nbformat": 4,
 "nbformat_minor": 5
}
